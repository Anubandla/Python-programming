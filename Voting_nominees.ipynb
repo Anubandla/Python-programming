{
  "nbformat": 4,
  "nbformat_minor": 0,
  "metadata": {
    "colab": {
      "name": "Voting nominees.ipynb",
      "provenance": [],
      "authorship_tag": "ABX9TyNJidsmNq3UVSNhNbdUYrrH",
      "include_colab_link": true
    },
    "kernelspec": {
      "name": "python3",
      "display_name": "Python 3"
    },
    "language_info": {
      "name": "python"
    }
  },
  "cells": [
    {
      "cell_type": "markdown",
      "metadata": {
        "id": "view-in-github",
        "colab_type": "text"
      },
      "source": [
        "<a href=\"https://colab.research.google.com/github/Anubandla/Python-programming/blob/master/Voting_nominees.ipynb\" target=\"_parent\"><img src=\"https://colab.research.google.com/assets/colab-badge.svg\" alt=\"Open In Colab\"/></a>"
      ]
    },
    {
      "cell_type": "code",
      "metadata": {
        "colab": {
          "base_uri": "https://localhost:8080/"
        },
        "id": "_NjsUB17U7n5",
        "outputId": "d72a8c8b-6b2f-4f49-9d2f-dcdc84370ac1"
      },
      "source": [
        "nominee_1 = input(\"enter the nominee 1 name : \")\n",
        "nominee_2 = input(\"enter the nominee 2 name : \")\n",
        "\n",
        "nom_1_votes = 0\n",
        "nom_2_votes = 0\n",
        "\n",
        "votes_id = [1,2,3,4,5]\n",
        "\n",
        "\n",
        "num_of_voter = len(votes_id)\n",
        "\n",
        "while True:\n",
        "    if votes_id==[]:\n",
        "        print(\"voting session over\")\n",
        "        percent1=(nom_1_votes/num_of_voter)*100\n",
        "        percent2=(nom_2_votes/num_of_voter)*100\n",
        "        if nom_1_votes>nom_2_votes:\n",
        "            print(nominee_1,\"has won\",\"with\",percent1,\"% votes\")\n",
        "            break\n",
        "                  \n",
        "        elif nom_2_votes>nom_1_votes:\n",
        "            print(nominee_2,\"has won\",\"with\",percent2,\"% votes\")\n",
        "            break\n",
        "                  \n",
        "    else:\n",
        "        voter = int(input(\"enterr your voter id no :\"))\n",
        "        if voter in votes_id:\n",
        "            print(\"you are a voter\")\n",
        "            votes_id.remove(voter)\n",
        "            vote = int(input(\"enter your vote 1 ot 2 :\"))\n",
        "            if vote==1:\n",
        "                nom_1_votes+=1\n",
        "                print(\"thank you for casting your vote\")\n",
        "            elif vote==2:\n",
        "                nom_2_votes+=1\n",
        "                print(\"thank you for casting your vote\")\n",
        "    \n",
        "        else:\n",
        "            print(\"you are not a voter here or you have already voted\")\n",
        "                  "
      ],
      "execution_count": null,
      "outputs": [
        {
          "output_type": "stream",
          "text": [
            "enter the nominee 1 name : anu\n",
            "enter the nominee 2 name : sai\n",
            "enterr your voter id no :1\n",
            "you are a voter\n",
            "enter your vote 1 ot 2 :1\n",
            "thank you for casting your vote\n",
            "enterr your voter id no :2\n",
            "you are a voter\n",
            "enter your vote 1 ot 2 :2\n",
            "thank you for casting your vote\n",
            "enterr your voter id no :3\n",
            "you are a voter\n",
            "enter your vote 1 ot 2 :1\n",
            "thank you for casting your vote\n",
            "enterr your voter id no :56\n",
            "you are not a voter here or you have already voted\n",
            "enterr your voter id no :4\n",
            "you are a voter\n",
            "enter your vote 1 ot 2 :2\n",
            "thank you for casting your vote\n",
            "enterr your voter id no :5\n",
            "you are a voter\n",
            "enter your vote 1 ot 2 :1\n",
            "thank you for casting your vote\n",
            "voting session over\n",
            "anu has won with 60.0 % votes\n"
          ],
          "name": "stdout"
        }
      ]
    }
  ]
}